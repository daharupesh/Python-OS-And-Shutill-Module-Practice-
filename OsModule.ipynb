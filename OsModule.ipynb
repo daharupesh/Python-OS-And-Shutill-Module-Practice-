{
 "cells": [
  {
   "cell_type": "code",
   "execution_count": 1,
   "metadata": {},
   "outputs": [
    {
     "name": "stdout",
     "output_type": "stream",
     "text": [
      "\\\n"
     ]
    }
   ],
   "source": [
    "import os\n",
    "print(os.sep)   # windows "
   ]
  },
  {
   "cell_type": "code",
   "execution_count": 3,
   "metadata": {},
   "outputs": [
    {
     "data": {
      "text/plain": [
       "'f:\\\\File Handling Python\\\\New folder'"
      ]
     },
     "execution_count": 3,
     "metadata": {},
     "output_type": "execute_result"
    }
   ],
   "source": [
    "# getcwd() get current working Directory\n",
    "os.getcwd()"
   ]
  },
  {
   "cell_type": "code",
   "execution_count": 4,
   "metadata": {},
   "outputs": [
    {
     "data": {
      "text/plain": [
       "['demo.txt',\n",
       " 'demo1.txt',\n",
       " 'demo2.txt',\n",
       " 'fileHandling.ipynb',\n",
       " 'NewFolder',\n",
       " 'OsModule.ipynb',\n",
       " 'output.txt',\n",
       " 'practice.txt',\n",
       " 'practice1.txt']"
      ]
     },
     "execution_count": 4,
     "metadata": {},
     "output_type": "execute_result"
    }
   ],
   "source": [
    "os.listdir() # list of all files and folder of current working directory in my directory.."
   ]
  },
  {
   "cell_type": "code",
   "execution_count": 7,
   "metadata": {},
   "outputs": [
    {
     "data": {
      "text/plain": [
       "['$RECYCLE.BIN',\n",
       " 'convocation sanjay',\n",
       " 'Data Analyst',\n",
       " 'Django',\n",
       " 'File Handling Python',\n",
       " 'gmail Extract From the Email Box',\n",
       " 'Intership_assesment',\n",
       " 'Maths PDF',\n",
       " 'New folder',\n",
       " 'Numpy',\n",
       " 'Numpy and Pandas Based project',\n",
       " 'pandas on seperate dataset',\n",
       " 'Potfolio',\n",
       " 'PSSE Java',\n",
       " 'Pw skills',\n",
       " 'Python Programming pwskills',\n",
       " 'Python _Projects',\n",
       " 'python_project',\n",
       " 'ResutlPublication',\n",
       " 'rupeshdaha',\n",
       " 'Sorting Problems',\n",
       " 'System Volume Information',\n",
       " 'Web development',\n",
       " 'youtube videos Editting']"
      ]
     },
     "execution_count": 7,
     "metadata": {},
     "output_type": "execute_result"
    }
   ],
   "source": [
    "os.listdir('f:\\\\') # list directory path wise.."
   ]
  },
  {
   "cell_type": "code",
   "execution_count": 12,
   "metadata": {},
   "outputs": [],
   "source": [
    "# os.chdir() - change directory...\n",
    "os.chdir('f:\\\\')"
   ]
  },
  {
   "cell_type": "code",
   "execution_count": 14,
   "metadata": {},
   "outputs": [
    {
     "data": {
      "text/plain": [
       "'f:\\\\'"
      ]
     },
     "execution_count": 14,
     "metadata": {},
     "output_type": "execute_result"
    }
   ],
   "source": [
    "os.getcwd()"
   ]
  },
  {
   "cell_type": "code",
   "execution_count": 13,
   "metadata": {},
   "outputs": [
    {
     "data": {
      "text/plain": [
       "['$RECYCLE.BIN',\n",
       " 'convocation sanjay',\n",
       " 'Data Analyst',\n",
       " 'Django',\n",
       " 'File Handling Python',\n",
       " 'gmail Extract From the Email Box',\n",
       " 'Intership_assesment',\n",
       " 'Maths PDF',\n",
       " 'New folder',\n",
       " 'Numpy',\n",
       " 'Numpy and Pandas Based project',\n",
       " 'pandas on seperate dataset',\n",
       " 'Potfolio',\n",
       " 'PSSE Java',\n",
       " 'Pw skills',\n",
       " 'Python Programming pwskills',\n",
       " 'Python _Projects',\n",
       " 'python_project',\n",
       " 'ResutlPublication',\n",
       " 'rupeshdaha',\n",
       " 'Sorting Problems',\n",
       " 'System Volume Information',\n",
       " 'Web development',\n",
       " 'youtube videos Editting']"
      ]
     },
     "execution_count": 13,
     "metadata": {},
     "output_type": "execute_result"
    }
   ],
   "source": [
    "# to check directory changed or not\n",
    "os.listdir()"
   ]
  },
  {
   "cell_type": "code",
   "execution_count": 15,
   "metadata": {},
   "outputs": [],
   "source": [
    "os.chdir('f:\\\\File Handling Python\\\\New folder')"
   ]
  },
  {
   "cell_type": "code",
   "execution_count": 16,
   "metadata": {},
   "outputs": [
    {
     "data": {
      "text/plain": [
       "'f:\\\\File Handling Python\\\\New folder'"
      ]
     },
     "execution_count": 16,
     "metadata": {},
     "output_type": "execute_result"
    }
   ],
   "source": [
    "os.getcwd()"
   ]
  },
  {
   "cell_type": "code",
   "execution_count": 18,
   "metadata": {},
   "outputs": [],
   "source": [
    "os.chdir('../') # directory back by one"
   ]
  },
  {
   "cell_type": "code",
   "execution_count": 19,
   "metadata": {},
   "outputs": [
    {
     "data": {
      "text/plain": [
       "'f:\\\\File Handling Python'"
      ]
     },
     "execution_count": 19,
     "metadata": {},
     "output_type": "execute_result"
    }
   ],
   "source": [
    "os.getcwd()"
   ]
  },
  {
   "cell_type": "code",
   "execution_count": 20,
   "metadata": {},
   "outputs": [],
   "source": [
    "os.chdir(\"/..\")"
   ]
  },
  {
   "cell_type": "code",
   "execution_count": 21,
   "metadata": {},
   "outputs": [
    {
     "data": {
      "text/plain": [
       "'f:\\\\'"
      ]
     },
     "execution_count": 21,
     "metadata": {},
     "output_type": "execute_result"
    }
   ],
   "source": [
    "os.getcwd()"
   ]
  },
  {
   "cell_type": "code",
   "execution_count": 22,
   "metadata": {},
   "outputs": [],
   "source": [
    "os.chdir('f:\\\\File Handling Python\\\\New folder')"
   ]
  },
  {
   "cell_type": "code",
   "execution_count": null,
   "metadata": {},
   "outputs": [],
   "source": [
    "# important\n",
    "# os.path.join()"
   ]
  },
  {
   "cell_type": "code",
   "execution_count": 23,
   "metadata": {},
   "outputs": [],
   "source": [
    "os.chdir('../')"
   ]
  },
  {
   "cell_type": "code",
   "execution_count": 24,
   "metadata": {},
   "outputs": [
    {
     "data": {
      "text/plain": [
       "'f:\\\\File Handling Python'"
      ]
     },
     "execution_count": 24,
     "metadata": {},
     "output_type": "execute_result"
    }
   ],
   "source": [
    "os.getcwd()"
   ]
  },
  {
   "cell_type": "code",
   "execution_count": 25,
   "metadata": {},
   "outputs": [],
   "source": [
    "dirName = 'RUP'\n",
    "os.mkdir(dirName)  #    mkdir used to make directory.."
   ]
  },
  {
   "cell_type": "code",
   "execution_count": 26,
   "metadata": {},
   "outputs": [
    {
     "data": {
      "text/plain": [
       "['.git', 'New folder', 'RUP']"
      ]
     },
     "execution_count": 26,
     "metadata": {},
     "output_type": "execute_result"
    }
   ],
   "source": [
    "os.listdir()"
   ]
  },
  {
   "cell_type": "code",
   "execution_count": 27,
   "metadata": {},
   "outputs": [
    {
     "data": {
      "text/plain": [
       "'f:\\\\File Handling Python\\\\subDir_or_file'"
      ]
     },
     "execution_count": 27,
     "metadata": {},
     "output_type": "execute_result"
    }
   ],
   "source": [
    "# os.path.join() # return me the join path\n",
    "# this is used to join the path of two directory...\n",
    "mainPath = 'f:\\\\File Handling Python'\n",
    "subDir_or_file = 'subDir_or_file'\n",
    "os.path.join(mainPath,subDir_or_file)"
   ]
  },
  {
   "cell_type": "code",
   "execution_count": 28,
   "metadata": {},
   "outputs": [
    {
     "data": {
      "text/plain": [
       "'f:\\\\File Handling Python'"
      ]
     },
     "execution_count": 28,
     "metadata": {},
     "output_type": "execute_result"
    }
   ],
   "source": [
    "os.getcwd()"
   ]
  },
  {
   "cell_type": "code",
   "execution_count": 29,
   "metadata": {},
   "outputs": [
    {
     "data": {
      "text/plain": [
       "['.git', 'New folder', 'RUP']"
      ]
     },
     "execution_count": 29,
     "metadata": {},
     "output_type": "execute_result"
    }
   ],
   "source": []
  },
  {
   "cell_type": "code",
   "execution_count": 35,
   "metadata": {},
   "outputs": [],
   "source": [
    "os.chdir('f:\\\\File Handling Python\\\\RUP')\n",
    "os.getcwd()\n",
    "joined = os.path.join('f:\\\\File Handling Python\\\\RUP\\\\daha\\\\Rupesh','Ramu')"
   ]
  },
  {
   "cell_type": "code",
   "execution_count": 39,
   "metadata": {},
   "outputs": [],
   "source": [
    "# how to make folders recursively - means folder inside folder\n",
    "os.makedirs(joined , exist_ok=True)"
   ]
  },
  {
   "cell_type": "code",
   "execution_count": 40,
   "metadata": {},
   "outputs": [
    {
     "data": {
      "text/plain": [
       "'f:\\\\File Handling Python\\\\RUP'"
      ]
     },
     "execution_count": 40,
     "metadata": {},
     "output_type": "execute_result"
    }
   ],
   "source": [
    "# rename()\n",
    "os.getcwd()"
   ]
  },
  {
   "cell_type": "code",
   "execution_count": 41,
   "metadata": {},
   "outputs": [
    {
     "data": {
      "text/plain": [
       "['daha']"
      ]
     },
     "execution_count": 41,
     "metadata": {},
     "output_type": "execute_result"
    }
   ],
   "source": [
    "os.listdir()"
   ]
  },
  {
   "cell_type": "code",
   "execution_count": 46,
   "metadata": {},
   "outputs": [],
   "source": [
    "os.chdir('C:\\\\Users\\\\rupes\\\\Desktop')"
   ]
  },
  {
   "cell_type": "code",
   "execution_count": 47,
   "metadata": {},
   "outputs": [
    {
     "data": {
      "text/plain": [
       "'C:\\\\Users\\\\rupes\\\\Desktop'"
      ]
     },
     "execution_count": 47,
     "metadata": {},
     "output_type": "execute_result"
    }
   ],
   "source": [
    "os.getcwd()"
   ]
  },
  {
   "cell_type": "code",
   "execution_count": 48,
   "metadata": {},
   "outputs": [
    {
     "data": {
      "text/plain": [
       "['Adobe Premiere Pro 2023.lnk',\n",
       " 'Arduino IDE.lnk',\n",
       " 'Final year presentation',\n",
       " 'Gym Photos',\n",
       " 'lor',\n",
       " 'Rupesh (A) - Chrome.lnk',\n",
       " 'Rupeshdahabe10X.pdf',\n",
       " 'Wondershare EdrawMax.lnk',\n",
       " 'Wondershare Filmora 13.lnk']"
      ]
     },
     "execution_count": 48,
     "metadata": {},
     "output_type": "execute_result"
    }
   ],
   "source": [
    "os.listdir()"
   ]
  },
  {
   "cell_type": "code",
   "execution_count": 49,
   "metadata": {},
   "outputs": [],
   "source": [
    "os.mkdir('Rakesh')"
   ]
  },
  {
   "cell_type": "code",
   "execution_count": 50,
   "metadata": {},
   "outputs": [
    {
     "data": {
      "text/plain": [
       "['Adobe Premiere Pro 2023.lnk',\n",
       " 'Arduino IDE.lnk',\n",
       " 'Final year presentation',\n",
       " 'Gym Photos',\n",
       " 'lor',\n",
       " 'Rakesh',\n",
       " 'Rupesh (A) - Chrome.lnk',\n",
       " 'Rupeshdahabe10X.pdf',\n",
       " 'Wondershare EdrawMax.lnk',\n",
       " 'Wondershare Filmora 13.lnk']"
      ]
     },
     "execution_count": 50,
     "metadata": {},
     "output_type": "execute_result"
    }
   ],
   "source": [
    "os.listdir()"
   ]
  },
  {
   "cell_type": "code",
   "execution_count": 51,
   "metadata": {},
   "outputs": [],
   "source": [
    "os.rename('Rakesh','Rupesh')"
   ]
  },
  {
   "cell_type": "code",
   "execution_count": 52,
   "metadata": {},
   "outputs": [
    {
     "data": {
      "text/plain": [
       "['Adobe Premiere Pro 2023.lnk',\n",
       " 'Arduino IDE.lnk',\n",
       " 'Final year presentation',\n",
       " 'Gym Photos',\n",
       " 'lor',\n",
       " 'Rupesh',\n",
       " 'Rupesh (A) - Chrome.lnk',\n",
       " 'Rupeshdahabe10X.pdf',\n",
       " 'Wondershare EdrawMax.lnk',\n",
       " 'Wondershare Filmora 13.lnk']"
      ]
     },
     "execution_count": 52,
     "metadata": {},
     "output_type": "execute_result"
    }
   ],
   "source": [
    "os.listdir()"
   ]
  },
  {
   "cell_type": "code",
   "execution_count": 53,
   "metadata": {},
   "outputs": [],
   "source": [
    "# os.rmdir()\n",
    "os.rmdir('Rupesh')"
   ]
  },
  {
   "cell_type": "code",
   "execution_count": 54,
   "metadata": {},
   "outputs": [
    {
     "data": {
      "text/plain": [
       "['Adobe Premiere Pro 2023.lnk',\n",
       " 'Arduino IDE.lnk',\n",
       " 'Final year presentation',\n",
       " 'Gym Photos',\n",
       " 'lor',\n",
       " 'Rupesh (A) - Chrome.lnk',\n",
       " 'Rupeshdahabe10X.pdf',\n",
       " 'Wondershare EdrawMax.lnk',\n",
       " 'Wondershare Filmora 13.lnk']"
      ]
     },
     "execution_count": 54,
     "metadata": {},
     "output_type": "execute_result"
    }
   ],
   "source": [
    "os.listdir()"
   ]
  },
  {
   "cell_type": "code",
   "execution_count": 55,
   "metadata": {},
   "outputs": [],
   "source": [
    "# how to remove directory recursively\n",
    "os.removedirs('Rupesh/daha/kumar')"
   ]
  },
  {
   "cell_type": "code",
   "execution_count": 56,
   "metadata": {},
   "outputs": [
    {
     "data": {
      "text/plain": [
       "'C:\\\\Users\\\\rupes\\\\Desktop'"
      ]
     },
     "execution_count": 56,
     "metadata": {},
     "output_type": "execute_result"
    }
   ],
   "source": [
    "# Shutil module..\n",
    "import shutil # used to move or copy\n",
    "os.getcwd()"
   ]
  },
  {
   "cell_type": "code",
   "execution_count": 59,
   "metadata": {},
   "outputs": [],
   "source": [
    "os.chdir('F:\\\\File Handling Python\\\\New folder')"
   ]
  },
  {
   "cell_type": "code",
   "execution_count": 60,
   "metadata": {},
   "outputs": [
    {
     "data": {
      "text/plain": [
       "'F:\\\\File Handling Python\\\\New folder'"
      ]
     },
     "execution_count": 60,
     "metadata": {},
     "output_type": "execute_result"
    }
   ],
   "source": [
    "os.getcwd()"
   ]
  },
  {
   "cell_type": "code",
   "execution_count": 61,
   "metadata": {},
   "outputs": [
    {
     "data": {
      "text/plain": [
       "'demo5.txt'"
      ]
     },
     "execution_count": 61,
     "metadata": {},
     "output_type": "execute_result"
    }
   ],
   "source": [
    "shutil.copy(\"demo.txt\",'demo5.txt')"
   ]
  },
  {
   "cell_type": "code",
   "execution_count": 62,
   "metadata": {},
   "outputs": [
    {
     "data": {
      "text/plain": [
       "'Rakesh'"
      ]
     },
     "execution_count": 62,
     "metadata": {},
     "output_type": "execute_result"
    }
   ],
   "source": [
    "shutil.copytree('./NewFolder','Rakesh')"
   ]
  },
  {
   "cell_type": "code",
   "execution_count": 68,
   "metadata": {},
   "outputs": [
    {
     "data": {
      "text/plain": [
       "'C.txt'"
      ]
     },
     "execution_count": 68,
     "metadata": {},
     "output_type": "execute_result"
    }
   ],
   "source": [
    "shutil.move('NewFolder/C.txt','C.txt')"
   ]
  },
  {
   "cell_type": "code",
   "execution_count": 69,
   "metadata": {},
   "outputs": [],
   "source": [
    "shutil.rmtree('Rakesh')"
   ]
  },
  {
   "cell_type": "code",
   "execution_count": 70,
   "metadata": {},
   "outputs": [],
   "source": [
    "os.remove('A.txt')"
   ]
  },
  {
   "cell_type": "code",
   "execution_count": 71,
   "metadata": {},
   "outputs": [
    {
     "data": {
      "text/plain": [
       "['Adobe Premiere Pro 2023.lnk',\n",
       " 'Arduino IDE.lnk',\n",
       " 'Final year presentation',\n",
       " 'Gym Photos',\n",
       " 'lor',\n",
       " 'Rupesh (A) - Chrome.lnk',\n",
       " 'Rupeshdahabe10X.pdf',\n",
       " 'Wondershare EdrawMax.lnk',\n",
       " 'Wondershare Filmora 13.lnk']"
      ]
     },
     "execution_count": 71,
     "metadata": {},
     "output_type": "execute_result"
    }
   ],
   "source": [
    "file_dir = 'C:\\\\Users\\\\rupes\\\\Desktop'\n",
    "os.listdir(file_dir)"
   ]
  },
  {
   "cell_type": "code",
   "execution_count": 73,
   "metadata": {},
   "outputs": [],
   "source": [
    "# program to moves bulks for files from the one place to another if file only....\n",
    "import os\n",
    "import shutil\n",
    "\n",
    "def move_files(source_dir,destination_dir):\n",
    "\n",
    "    if not os.path.exists(destination_dir):\n",
    "        os.makedirs(destination_dir)\n",
    "\n",
    "    list_files = os.listdir(source_dir)\n",
    "\n",
    "    for files in list_files:\n",
    "        item_path = os.path.join(source_dir,files)\n",
    "        shutil.move(item_path,destination_dir)\n",
    "move_files('C:\\\\Users\\\\rupes\\\\Desktop','C:\\\\Users\\\\rupes\\\\Desktop\\\\NewFolder')"
   ]
  },
  {
   "cell_type": "code",
   "execution_count": 77,
   "metadata": {},
   "outputs": [],
   "source": [
    "# create directory....\n",
    "current_dir = os.chdir('C:\\\\Users\\\\rupes\\\\Desktop')\n",
    "for i in range(20):\n",
    "      os.mkdir('video 0'+str(i))"
   ]
  },
  {
   "cell_type": "code",
   "execution_count": null,
   "metadata": {},
   "outputs": [],
   "source": []
  }
 ],
 "metadata": {
  "kernelspec": {
   "display_name": "Python 3",
   "language": "python",
   "name": "python3"
  },
  "language_info": {
   "codemirror_mode": {
    "name": "ipython",
    "version": 3
   },
   "file_extension": ".py",
   "mimetype": "text/x-python",
   "name": "python",
   "nbconvert_exporter": "python",
   "pygments_lexer": "ipython3",
   "version": "3.11.0"
  }
 },
 "nbformat": 4,
 "nbformat_minor": 2
}
